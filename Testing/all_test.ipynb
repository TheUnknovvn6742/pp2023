{
 "cells": [
  {
   "cell_type": "code",
   "execution_count": 2,
   "metadata": {},
   "outputs": [
    {
     "data": {
      "text/plain": [
       "'Lmao Gottem'"
      ]
     },
     "execution_count": 2,
     "metadata": {},
     "output_type": "execute_result"
    }
   ],
   "source": [
    "\"lmao gottem\".title()\n"
   ]
  },
  {
   "cell_type": "code",
   "execution_count": 2,
   "metadata": {},
   "outputs": [],
   "source": [
    "from test_code import *\n",
    "import polars as pl\n",
    "pl.Config.set_tbl_hide_column_data_types(True)\n"
   ]
  },
  {
   "cell_type": "code",
   "execution_count": 12,
   "metadata": {},
   "outputs": [],
   "source": [
    "s = pl.DataFrame(\n",
    "    {\"Students name\": [\"A\", \"B\"], \"Id\": [1, 2], \"dob\": [111, 222]})\n"
   ]
  },
  {
   "cell_type": "code",
   "execution_count": 13,
   "metadata": {},
   "outputs": [
    {
     "name": "stdout",
     "output_type": "stream",
     "text": [
      "┌───────────────┬─────┬─────┐\n",
      "│ Students name ┆ Id  ┆ dob │\n",
      "╞═══════════════╪═════╪═════╡\n",
      "│ A             ┆ 1   ┆ 111 │\n",
      "│ B             ┆ 2   ┆ 222 │\n",
      "└───────────────┴─────┴─────┘\n"
     ]
    }
   ],
   "source": [
    "print(s)\n"
   ]
  },
  {
   "cell_type": "code",
   "execution_count": 14,
   "metadata": {},
   "outputs": [],
   "source": [
    "c = pl.DataFrame({\"Courses name\": [\"M\", \"C\"], \"Id\": [\n",
    "                 123, 456], \"Credits\": [4, 3]})\n"
   ]
  },
  {
   "cell_type": "code",
   "execution_count": 15,
   "metadata": {},
   "outputs": [
    {
     "name": "stdout",
     "output_type": "stream",
     "text": [
      "┌──────────────┬─────┬─────────┐\n",
      "│ Courses name ┆ Id  ┆ Credits │\n",
      "╞══════════════╪═════╪═════════╡\n",
      "│ M            ┆ 123 ┆ 4       │\n",
      "│ C            ┆ 456 ┆ 3       │\n",
      "└──────────────┴─────┴─────────┘\n"
     ]
    }
   ],
   "source": [
    "print(c)\n"
   ]
  },
  {
   "cell_type": "code",
   "execution_count": 34,
   "metadata": {},
   "outputs": [],
   "source": [
    "m = pl.DataFrame({\"Students name\": [\"A\", \"B\"], \"M\": [\n",
    "                 8.4, 7.8], \"C\": [7.4, 9.4]})\n"
   ]
  },
  {
   "cell_type": "code",
   "execution_count": 35,
   "metadata": {},
   "outputs": [
    {
     "name": "stdout",
     "output_type": "stream",
     "text": [
      "┌───────────────┬─────┬─────┐\n",
      "│ Students name ┆ M   ┆ C   │\n",
      "╞═══════════════╪═════╪═════╡\n",
      "│ A             ┆ 8.4 ┆ 7.4 │\n",
      "│ B             ┆ 7.8 ┆ 9.4 │\n",
      "└───────────────┴─────┴─────┘\n"
     ]
    }
   ],
   "source": [
    "print(m)\n"
   ]
  },
  {
   "cell_type": "code",
   "execution_count": 36,
   "metadata": {},
   "outputs": [
    {
     "name": "stdout",
     "output_type": "stream",
     "text": [
      "┌───────────────┬─────┬─────┐\n",
      "│ Students name ┆ M   ┆ C   │\n",
      "╞═══════════════╪═════╪═════╡\n",
      "│ A             ┆ 8.4 ┆ 7.4 │\n",
      "└───────────────┴─────┴─────┘\n"
     ]
    }
   ],
   "source": [
    "while True:\n",
    "    student_name = input(\n",
    "        \"Enter the name of the student to see GPA: \").title()\n",
    "    # get the row of that student for all mark\n",
    "    if (student_name in s[\"Students name\"].to_list()):\n",
    "        student_mark = m.filter(\n",
    "            m[\"Students name\"] == student_name)\n",
    "        print(student_mark)\n",
    "        break\n",
    "    else:\n",
    "        print(\n",
    "            f\"\\\"{student_name}\\\" is not in the student list, please try again.\")\n"
   ]
  },
  {
   "cell_type": "code",
   "execution_count": 37,
   "metadata": {},
   "outputs": [],
   "source": [
    "filter_mask = c.select(\n",
    "    pl.col(\"Courses name\").is_in(m.columns)\n",
    ")[:, 0]\n"
   ]
  },
  {
   "cell_type": "code",
   "execution_count": 38,
   "metadata": {},
   "outputs": [
    {
     "name": "stdout",
     "output_type": "stream",
     "text": [
      "shape: (2,)\n",
      "Series: 'Courses name' [bool]\n",
      "[\n",
      "\ttrue\n",
      "\ttrue\n",
      "]\n"
     ]
    }
   ],
   "source": [
    "print(filter_mask)\n"
   ]
  },
  {
   "cell_type": "code",
   "execution_count": 39,
   "metadata": {},
   "outputs": [],
   "source": [
    "name_credit = c.filter(filter_mask)\n"
   ]
  },
  {
   "cell_type": "code",
   "execution_count": 40,
   "metadata": {},
   "outputs": [
    {
     "name": "stdout",
     "output_type": "stream",
     "text": [
      "┌──────────────┬─────┬─────────┐\n",
      "│ Courses name ┆ Id  ┆ Credits │\n",
      "╞══════════════╪═════╪═════════╡\n",
      "│ M            ┆ 123 ┆ 4       │\n",
      "│ C            ┆ 456 ┆ 3       │\n",
      "└──────────────┴─────┴─────────┘\n"
     ]
    }
   ],
   "source": [
    "print(name_credit)\n"
   ]
  },
  {
   "cell_type": "code",
   "execution_count": 41,
   "metadata": {},
   "outputs": [
    {
     "name": "stdout",
     "output_type": "stream",
     "text": [
      "8.4\n",
      "4\n",
      "7.4\n",
      "3\n"
     ]
    }
   ],
   "source": [
    "for x in name_credit[\"Courses name\"].to_list():\n",
    "    print(student_mark[x].item())\n",
    "    print(\n",
    "        name_credit.filter(\n",
    "            name_credit[\"Courses name\"] == x\n",
    "        )[\"Credits\"].item()\n",
    "    )\n"
   ]
  },
  {
   "cell_type": "code",
   "execution_count": 33,
   "metadata": {},
   "outputs": [
    {
     "data": {
      "text/plain": [
       "4"
      ]
     },
     "execution_count": 33,
     "metadata": {},
     "output_type": "execute_result"
    }
   ],
   "source": [
    "print(\n",
    "    name_credit.filter(\n",
    "        name_credit[\"Courses name\"] == x\n",
    "    )[\"Credits\"].item()\n",
    ")\n"
   ]
  }
 ],
 "metadata": {
  "kernelspec": {
   "display_name": "Python 3",
   "language": "python",
   "name": "python3"
  },
  "language_info": {
   "codemirror_mode": {
    "name": "ipython",
    "version": 3
   },
   "file_extension": ".py",
   "mimetype": "text/x-python",
   "name": "python",
   "nbconvert_exporter": "python",
   "pygments_lexer": "ipython3",
   "version": "3.11.0"
  },
  "orig_nbformat": 4
 },
 "nbformat": 4,
 "nbformat_minor": 2
}
